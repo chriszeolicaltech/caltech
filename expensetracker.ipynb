{
 "cells": [
  {
   "cell_type": "code",
   "execution_count": 24,
   "id": "78bacd5f-17eb-4fd4-ac91-cdcc226c21e1",
   "metadata": {},
   "outputs": [
    {
     "name": "stdin",
     "output_type": "stream",
     "text": [
      "Enter the date (YYYY-MM-DD):  1993-12-15\n",
      "Enter the category (e.g., Food, Travel, Utilities):  Hospital fee\n",
      "Enter the amount:  1000\n",
      "Enter a description:  I was born and paid the fee to the hospital\n"
     ]
    },
    {
     "name": "stdout",
     "output_type": "stream",
     "text": [
      "Expense added successfully!\n"
     ]
    }
   ],
   "source": [
    "#step 1\n",
    "from datetime import datetime\n",
    "\n",
    "# Initialize the expenses list to store expense records\n",
    "expenses = []\n",
    "\n",
    "def add_expense():\n",
    "    \"\"\"Adds an expense to the expenses list, with date, category, amount, and description.\"\"\"\n",
    "    try:\n",
    "        # Get input for each field\n",
    "        date_str = input(\"Enter the date (YYYY-MM-DD): \")\n",
    "        date = datetime.strptime(date_str, \"%Y-%m-%d\").date()  # Convert to date format for validation\n",
    "        category = input(\"Enter the category (e.g., Food, Travel, Utilities): \")\n",
    "        amount = float(input(\"Enter the amount: \"))\n",
    "        description = input(\"Enter a description: \")\n",
    "\n",
    "        # Create an expense dictionary\n",
    "        expense = {\n",
    "            'date': date_str,\n",
    "            'category': category,\n",
    "            'amount': amount,\n",
    "            'description': description\n",
    "        }\n",
    "\n",
    "        # Append to the expenses list\n",
    "        expenses.append(expense)\n",
    "        print(\"Expense added successfully!\")\n",
    "\n",
    "    except ValueError as e:\n",
    "        print(\"Invalid input:\", e)\n",
    "        print(\"Please try again.\")\n",
    "\n",
    "add_expense()"
   ]
  },
  {
   "cell_type": "code",
   "execution_count": 26,
   "id": "293663b9-2ba9-465f-a878-d9d66beb3e63",
   "metadata": {},
   "outputs": [
    {
     "name": "stdout",
     "output_type": "stream",
     "text": [
      "\n",
      "--- List of Expenses ---\n",
      "Date: 1993-12-15, Category: Hospital fee, Amount: $1000.00, Description: I was born and paid the fee to the hospital\n"
     ]
    }
   ],
   "source": [
    "#step 2\n",
    "def view_expenses():\n",
    "    \"\"\"Displays all expenses in a readable format.\"\"\"\n",
    "    if not expenses:\n",
    "        print(\"No expenses recorded.\")\n",
    "    else:\n",
    "        print(\"\\n--- List of Expenses ---\")\n",
    "        incomplete_entries = 0\n",
    "\n",
    "        for expense in expenses:\n",
    "            if all(key in expense and expense[key] for key in ['date', 'category', 'amount', 'description']):\n",
    "                try:\n",
    "                    # Format the output for each valid expense entry\n",
    "                    print(f\"Date: {expense['date']}, Category: {expense['category']}, \"\n",
    "                          f\"Amount: ${float(expense['amount']):.2f}, Description: {expense['description']}\")\n",
    "                except ValueError:\n",
    "                    # If amount is not a valid float, skip and count as incomplete\n",
    "                    incomplete_entries += 1\n",
    "                    print(\"Skipping an entry due to an invalid amount.\")\n",
    "            else:\n",
    "                # Count and skip incomplete entries\n",
    "                incomplete_entries += 1\n",
    "                print(\"Skipping an incomplete expense entry.\")\n",
    "\n",
    "        if incomplete_entries > 0:\n",
    "            print(f\"\\n{incomplete_entries} incomplete or invalid entries were skipped.\")\n",
    "\n",
    "view_expenses()"
   ]
  },
  {
   "cell_type": "code",
   "execution_count": 40,
   "id": "4bf58c4b-1012-449a-ad17-3465895b43f8",
   "metadata": {},
   "outputs": [
    {
     "name": "stdin",
     "output_type": "stream",
     "text": [
      "Enter the date (YYYY-MM-DD):  2024-11-1\n",
      "Enter the category (e.g., Food, Travel, Utilities):  SimpliLearn and Caltech fee\n",
      "Enter the amount:  3200\n",
      "Enter a description:  Fee\n"
     ]
    },
    {
     "name": "stdout",
     "output_type": "stream",
     "text": [
      "Expense added successfully!\n"
     ]
    },
    {
     "name": "stdin",
     "output_type": "stream",
     "text": [
      "Enter your monthly budget:  5000\n"
     ]
    },
    {
     "name": "stdout",
     "output_type": "stream",
     "text": [
      "Your budget for the month is set to $5000.00\n",
      "Warning: You have exceeded your budget!\n"
     ]
    }
   ],
   "source": [
    "#step 3\n",
    "# Creates a variable to store the monthly budget and an empty list for expenses\n",
    "monthly_budget = 0.0\n",
    "\n",
    "def set_budget():\n",
    "    \"\"\"Prompts the user to enter the monthly budget amount.\"\"\"\n",
    "    global monthly_budget\n",
    "    try:\n",
    "        monthly_budget = float(input(\"Enter your monthly budget: \"))\n",
    "        print(f\"Your budget for the month is set to ${monthly_budget:.2f}\")\n",
    "    except ValueError:\n",
    "        print(\"Invalid input. Please enter a numeric value.\")\n",
    "\n",
    "def calculate_total_expenses():\n",
    "    \"\"\"Calculates and returns the total amount of all recorded expenses.\"\"\"\n",
    "    return sum(expense['amount'] for expense in expenses)\n",
    "\n",
    "def check_budget():\n",
    "    \"\"\"Compares the total expenses with the monthly budget and provides feedback.\"\"\"\n",
    "    total_expenses = calculate_total_expenses()\n",
    "    \n",
    "    if total_expenses > monthly_budget:\n",
    "        print(\"Warning: You have exceeded your budget!\")\n",
    "    else:\n",
    "        remaining_balance = monthly_budget - total_expenses\n",
    "        print(f\"You have ${remaining_balance:.2f} left for the month.\")\n",
    "\n",
    "# Set the budget and check it\n",
    "add_expense()\n",
    "set_budget()\n",
    "check_budget()"
   ]
  },
  {
   "cell_type": "code",
   "execution_count": 38,
   "id": "6c5b4f77-2f13-4eb3-9eb2-039184e21888",
   "metadata": {},
   "outputs": [
    {
     "name": "stdout",
     "output_type": "stream",
     "text": [
      "Expenses saved successfully to expenses.csv.\n",
      "Expenses loaded successfully from expenses.csv.\n"
     ]
    }
   ],
   "source": [
    "#step 4\n",
    "import csv\n",
    "\n",
    "def save_data():\n",
    "    \"\"\"Saves all expenses to a CSV file, with each row containing\n",
    "    the date, category, amount, and description of each expense.\"\"\"\n",
    "    with open('expenses.csv', mode='w', newline='') as file:\n",
    "        writer = csv.writer(file)\n",
    "        # Write the header row\n",
    "        writer.writerow(['Date', 'Category', 'Amount', 'Description'])\n",
    "        \n",
    "        # Write each expense as a row in the CSV file\n",
    "        for expense in expenses:\n",
    "            writer.writerow([expense['date'], expense['category'], expense['amount'], expense['description']])\n",
    "        \n",
    "        print(\"Expenses saved successfully to expenses.csv.\")\n",
    "\n",
    "def load_data():\n",
    "    \"\"\"Loads expenses from the CSV file and populates the expenses list.\n",
    "    This function should be called when the program starts to load any previously saved expenses.\"\"\"\n",
    "    try:\n",
    "        with open('expenses.csv', mode='r') as file:\n",
    "            reader = csv.DictReader(file)\n",
    "            # Read each row and add it to the expenses list\n",
    "            for row in reader:\n",
    "                expense = {\n",
    "                    'date': row['Date'],\n",
    "                    'category': row['Category'],\n",
    "                    'amount': float(row['Amount']),  # Convert amount to float\n",
    "                    'description': row['Description']\n",
    "                }\n",
    "                expenses.append(expense)\n",
    "        print(\"Expenses loaded successfully from expenses.csv.\")\n",
    "    except FileNotFoundError:\n",
    "        print(\"No previous expense data found. Starting with an empty list.\")\n",
    "    except Exception as e:\n",
    "        print(\"An error occurred while loading data:\", e)\n",
    "\n",
    "# Example usage\n",
    "# Call load_data() at the beginning to load any existing expenses\n",
    "save_data()\n",
    "load_data()\n",
    "\n",
    "# Function calls to add expenses, save data, and load data can go here\n",
    "# Example: After adding expenses, call save_data() to save them"
   ]
  },
  {
   "cell_type": "code",
   "execution_count": 48,
   "id": "e432b782-1da1-4e64-979a-945a3d9593a5",
   "metadata": {},
   "outputs": [
    {
     "name": "stdout",
     "output_type": "stream",
     "text": [
      "\n",
      "Expense Tracker Menu\n",
      "1. Add Expense\n",
      "2. View Expenses\n",
      "3. Track Budget\n",
      "4. Save Expenses\n",
      "5. Exit\n"
     ]
    },
    {
     "name": "stdin",
     "output_type": "stream",
     "text": [
      "Enter the number of your choice:  1\n",
      "Enter the date (YYYY-MM-DD):  2000-12-15\n",
      "Enter the category (e.g., Food, Travel, Utilities):  Taxi\n",
      "Enter the amount:  20\n",
      "Enter a description:  Travel\n"
     ]
    },
    {
     "name": "stdout",
     "output_type": "stream",
     "text": [
      "Expense added successfully!\n",
      "\n",
      "Expense Tracker Menu\n",
      "1. Add Expense\n",
      "2. View Expenses\n",
      "3. Track Budget\n",
      "4. Save Expenses\n",
      "5. Exit\n"
     ]
    },
    {
     "name": "stdin",
     "output_type": "stream",
     "text": [
      "Enter the number of your choice:  2\n"
     ]
    },
    {
     "name": "stdout",
     "output_type": "stream",
     "text": [
      "\n",
      "--- List of Expenses ---\n",
      "Date: 2024-11-1, Category: Education, Amount: $3200.00, Description: CalTech and Simplilearn Fee\n",
      "Date: 2024-11-1, Category: Education, Amount: $3200.00, Description: CalTech and Simplilearn Fee\n",
      "Date: 2024-11-1, Category: SimpliLearn and Caltech fee, Amount: $3200.00, Description: Fee\n",
      "Date: 2023-12-14, Category: Food, Amount: $200.00, Description: Birthday dinner\n",
      "Date: 2023-12-15, Category: Gift, Amount: $100.00, Description: Birthday gift\n",
      "Date: 2000-12-15, Category: Taxi, Amount: $20.00, Description: Travel\n",
      "\n",
      "Expense Tracker Menu\n",
      "1. Add Expense\n",
      "2. View Expenses\n",
      "3. Track Budget\n",
      "4. Save Expenses\n",
      "5. Exit\n"
     ]
    },
    {
     "name": "stdin",
     "output_type": "stream",
     "text": [
      "Enter the number of your choice:  3\n"
     ]
    },
    {
     "name": "stdout",
     "output_type": "stream",
     "text": [
      "Warning: You have exceeded your budget!\n",
      "\n",
      "Expense Tracker Menu\n",
      "1. Add Expense\n",
      "2. View Expenses\n",
      "3. Track Budget\n",
      "4. Save Expenses\n",
      "5. Exit\n"
     ]
    },
    {
     "name": "stdin",
     "output_type": "stream",
     "text": [
      "Enter the number of your choice:  4\n"
     ]
    },
    {
     "name": "stdout",
     "output_type": "stream",
     "text": [
      "Expenses saved successfully to expenses.csv.\n",
      "Expenses saved successfully.\n",
      "\n",
      "Expense Tracker Menu\n",
      "1. Add Expense\n",
      "2. View Expenses\n",
      "3. Track Budget\n",
      "4. Save Expenses\n",
      "5. Exit\n"
     ]
    },
    {
     "name": "stdin",
     "output_type": "stream",
     "text": [
      "Enter the number of your choice:  5\n"
     ]
    },
    {
     "name": "stdout",
     "output_type": "stream",
     "text": [
      "Expenses saved successfully to expenses.csv.\n",
      "Expenses saved. Exiting program.\n"
     ]
    }
   ],
   "source": [
    "#step 5\n",
    "def display_menu():\n",
    "    \"\"\"Display an interactive menu for the user to choose actions.\"\"\"\n",
    "    while True:\n",
    "        print(\"\\nExpense Tracker Menu\")\n",
    "        print(\"1. Add Expense\")\n",
    "        print(\"2. View Expenses\")\n",
    "        print(\"3. Track Budget\")\n",
    "        print(\"4. Save Expenses\")\n",
    "        print(\"5. Exit\")\n",
    "\n",
    "        # Get user input\n",
    "        choice = input(\"Enter the number of your choice: \")\n",
    "\n",
    "        if choice == '1':\n",
    "            add_expense()\n",
    "        elif choice == '2':\n",
    "            view_expenses()\n",
    "        elif choice == '3':\n",
    "            check_budget()\n",
    "        elif choice == '4':\n",
    "            save_data()\n",
    "            print(\"Expenses saved successfully.\")\n",
    "        elif choice == '5':\n",
    "            save_data()  # Save before exiting\n",
    "            print(\"Expenses saved. Exiting program.\")\n",
    "            break\n",
    "        else:\n",
    "            print(\"Invalid choice. Please enter a number from 1 to 5.\")\n",
    "\n",
    "display_menu()"
   ]
  },
  {
   "cell_type": "code",
   "execution_count": null,
   "id": "faef5f40-4132-4e31-a371-ac082c861828",
   "metadata": {},
   "outputs": [],
   "source": []
  }
 ],
 "metadata": {
  "kernelspec": {
   "display_name": "Python 3 (ipykernel)",
   "language": "python",
   "name": "python3"
  },
  "language_info": {
   "codemirror_mode": {
    "name": "ipython",
    "version": 3
   },
   "file_extension": ".py",
   "mimetype": "text/x-python",
   "name": "python",
   "nbconvert_exporter": "python",
   "pygments_lexer": "ipython3",
   "version": "3.12.7"
  }
 },
 "nbformat": 4,
 "nbformat_minor": 5
}
